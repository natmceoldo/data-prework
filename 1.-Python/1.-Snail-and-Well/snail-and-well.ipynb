{
 "cells": [
  {
   "cell_type": "markdown",
   "metadata": {},
   "source": [
    "<img src=\"https://bit.ly/2VnXWr2\" width=\"100\" align=\"left\">"
   ]
  },
  {
   "cell_type": "markdown",
   "metadata": {},
   "source": [
    "# The Snail and the Well\n",
    "\n",
    "A snail falls at the bottom of a 125 cm well. Each day the snail rises 30 cm. But at night, while sleeping, slides 20 cm because the walls are wet. How many days does it take for the snail to escape the well?\n",
    "\n",
    "**Hint**: The snail gets out of the well when it surpasses the 125cm of height.\n",
    "\n",
    "## Tools\n",
    "\n",
    "1. Loop: **while**\n",
    "2. Conditional statements: **if-else**\n",
    "3. Function: **print()**\n",
    "\n",
    "## Tasks\n",
    "\n",
    "#### 1. Assign the challenge data to variables with representative names: `well_height`, `daily_distance`, `nightly_distance` and `snail_position`."
   ]
  },
  {
   "cell_type": "code",
   "execution_count": 20,
   "metadata": {},
   "outputs": [],
   "source": [
    "well_height = 125\n",
    "daily_distance = 30\n",
    "nightly_distance = -20\n",
    "snail_position = 0"
   ]
  },
  {
   "cell_type": "markdown",
   "metadata": {},
   "source": [
    "#### 2. Create a variable `days` to keep count of the days that pass until the snail escapes the well. "
   ]
  },
  {
   "cell_type": "code",
   "execution_count": 21,
   "metadata": {},
   "outputs": [],
   "source": [
    "days = 0"
   ]
  },
  {
   "cell_type": "markdown",
   "metadata": {},
   "source": [
    "#### 3. Find the solution to the challenge using the variables defined above. "
   ]
  },
  {
   "cell_type": "code",
   "execution_count": 22,
   "metadata": {},
   "outputs": [],
   "source": [
    "well_height = 125\n",
    "daily_distance = 30\n",
    "nightly_distance = -20\n",
    "snail_position = 0\n",
    "days = 0\n",
    "\n",
    "while snail_position < well_height:\n",
    "    snail_position = snail_position + daily_distance\n",
    "    days += 1\n",
    "    if snail_position <= well_height:\n",
    "        snail_position = snail_position + nightly_distance"
   ]
  },
  {
   "cell_type": "markdown",
   "metadata": {},
   "source": [
    "#### 4. Print the solution."
   ]
  },
  {
   "cell_type": "code",
   "execution_count": 23,
   "metadata": {},
   "outputs": [
    {
     "name": "stdout",
     "output_type": "stream",
     "text": [
      "At day # 11 the Snail escaped the well.\n"
     ]
    }
   ],
   "source": [
    "print(\"At day #\", days, \"the Snail escaped the well.\")"
   ]
  },
  {
   "cell_type": "markdown",
   "metadata": {},
   "source": [
    "## Bonus\n",
    "The distance traveled by the snail each day is now defined by a list.\n",
    "```\n",
    "advance_cm = [30, 21, 33, 77, 44, 45, 23, 45, 12, 34, 55]\n",
    "```\n",
    "On the first day, the snail rises 30cm but during the night it slides 20cm. On the second day, the snail rises 21cm but during the night it slides 20cm, and so on. \n",
    "\n",
    "#### 1. How many days does it take for the snail to escape the well?\n",
    "Follow the same guidelines as in the previous challenge.\n",
    "\n",
    "**Hint**: Remember that the snail gets out of the well when it surpasses the 125cm of height."
   ]
  },
  {
   "cell_type": "code",
   "execution_count": 29,
   "metadata": {},
   "outputs": [
    {
     "name": "stdout",
     "output_type": "stream",
     "text": [
      "At day # 6 the Snail escaped the well.\n"
     ]
    }
   ],
   "source": [
    "advance_cm = [30, 21, 33, 77, 44, 45, 23, 45, 12, 34, 55]\n",
    "well_height = 125\n",
    "nightly_distance = -20\n",
    "snail_position = 0\n",
    "days = 0\n",
    "\n",
    "while snail_position < well_height:\n",
    "    snail_position = snail_position + advance_cm[days]\n",
    "    days += 1\n",
    "    if snail_position <= well_height:\n",
    "        snail_position = snail_position + nightly_distance\n",
    "        \n",
    "print(\"At day #\", days, \"the Snail escaped the well.\")\n"
   ]
  },
  {
   "cell_type": "markdown",
   "metadata": {},
   "source": [
    "#### 2. What is its maximum displacement in one day? And its minimum? Calculate the displacement using only the travel distance of the days used to get out of the well. \n",
    "**Hint**: Remember that displacement means the total distance risen taking into account that the snail slides at night.  "
   ]
  },
  {
   "cell_type": "code",
   "execution_count": 43,
   "metadata": {},
   "outputs": [
    {
     "name": "stdout",
     "output_type": "stream",
     "text": [
      "The daily displacement in cm from day # 1 to day # 6 were, respectively: [10, 1, 13, 57, 24, 45] .\n",
      "The maximum Snail's displacement in a day were: 57 cm.\n",
      "The minimum Snail's displacement in a day were: 1 cm.\n"
     ]
    }
   ],
   "source": [
    "advance_cm = [30, 21, 33, 77, 44, 45, 23, 45, 12, 34, 55]\n",
    "well_height = 125\n",
    "nightly_distance = -20\n",
    "snail_position = 0\n",
    "days = 0\n",
    "daily_displacement = [0]\n",
    "\n",
    "\n",
    "while snail_position < well_height:\n",
    "    snail_position = snail_position + advance_cm[days]\n",
    "    if days == 0:\n",
    "        daily_displacement[0] = advance_cm[days]\n",
    "        days += 1\n",
    "    else:\n",
    "        daily_displacement.append (advance_cm[days])\n",
    "        days += 1\n",
    "    if snail_position <= well_height:\n",
    "        snail_position = snail_position + nightly_distance\n",
    "        daily_displacement[-1] = daily_displacement[-1] + nightly_distance\n",
    "        \"\"\"\"\n",
    "        #alternatively:\n",
    "        daily_displacement.remove (daily_displacement[-1])\n",
    "        daily_displacement.append (advance_cm[days-1]+nightly_distance)\n",
    "        \"\"\"\n",
    "        \n",
    "print(\"The daily displacement in cm from day # 1 to day #\", days, \"were, respectively:\", daily_displacement, \".\")\n",
    "print(\"The maximum Snail's displacement in a day were:\", max(daily_displacement), \"cm.\")\n",
    "print(\"The minimum Snail's displacement in a day were:\", min(daily_displacement), \"cm.\")"
   ]
  },
  {
   "cell_type": "markdown",
   "metadata": {},
   "source": [
    "#### 3. What is its average progress? Take into account the snail slides at night."
   ]
  },
  {
   "cell_type": "code",
   "execution_count": 42,
   "metadata": {},
   "outputs": [
    {
     "name": "stdout",
     "output_type": "stream",
     "text": [
      "The average progress, or average speed, of the Snail were: 25.0 cm/day\n"
     ]
    }
   ],
   "source": [
    "avg_progress = sum(daily_displacement)/len(daily_displacement)\n",
    "print (\"The average progress, or average speed, of the Snail were:\", avg_progress, \"cm/day\")"
   ]
  },
  {
   "cell_type": "markdown",
   "metadata": {},
   "source": [
    "#### 4. What is the standard deviation of its displacement? Take into account the snail slides at night."
   ]
  },
  {
   "cell_type": "code",
   "execution_count": 46,
   "metadata": {},
   "outputs": [
    {
     "name": "stdout",
     "output_type": "stream",
     "text": [
      "The standard deviation of the Snail's daily progress were: 19.87460691435179\n"
     ]
    }
   ],
   "source": [
    "i = 0\n",
    "sqrvar_sum = 0\n",
    "\n",
    "while i < len(daily_displacement):\n",
    "    sqrvar_sum = sqrvar_sum + (avg_progress - daily_displacement[i])**2\n",
    "    i += 1\n",
    "    \n",
    "std_dev = (sqrvar_sum/len(daily_displacement))**(1/2)\n",
    "print (\"The standard deviation of the Snail's daily progress were:\", std_dev)"
   ]
  }
 ],
 "metadata": {
  "kernelspec": {
   "display_name": "Python 3",
   "language": "python",
   "name": "python3"
  },
  "language_info": {
   "codemirror_mode": {
    "name": "ipython",
    "version": 3
   },
   "file_extension": ".py",
   "mimetype": "text/x-python",
   "name": "python",
   "nbconvert_exporter": "python",
   "pygments_lexer": "ipython3",
   "version": "3.9.4"
  }
 },
 "nbformat": 4,
 "nbformat_minor": 2
}
