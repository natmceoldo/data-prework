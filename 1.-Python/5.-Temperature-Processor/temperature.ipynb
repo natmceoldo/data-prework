{
 "cells": [
  {
   "cell_type": "markdown",
   "metadata": {},
   "source": [
    "<img src=\"https://bit.ly/2VnXWr2\" width=\"100\" align=\"left\">"
   ]
  },
  {
   "cell_type": "markdown",
   "metadata": {},
   "source": [
    "# Temperature Sensor\n",
    "\n",
    "There is a temperature sensor in the processor of your company's server. The company wants to analyze the data provided by the sensor to decide if they should change the cooling system for a better one. As changing the cooling system is expensive and you are an excellent data analyst, you can't make a decision without basis.\n",
    "\n",
    "## Tools\n",
    "You don't necessarily need to use all the tools. Maybe you opt to use some of them or completely different ones, they are given to help you shape the exercise. Programming exercises can be solved in many different ways.\n",
    "1. Data structures: **lists**\n",
    "2. Loops: **list comprehension**\n",
    "3. Functions: **min, max, print, len**\n",
    "4. Conditional statements: **if-elif-else**\n",
    "\n",
    "## Tasks\n",
    "The temperatures measured throughout the 24 hours of a day are:"
   ]
  },
  {
   "cell_type": "code",
   "execution_count": 24,
   "metadata": {},
   "outputs": [],
   "source": [
    "temperatures_C = [33, 66, 65, 0, 59, 60, 62, 64, 70, 76, 80, 81, 80, 83, 90, 79, 61, 53, 50, 49, 53, 48, 45, 39]"
   ]
  },
  {
   "cell_type": "markdown",
   "metadata": {},
   "source": [
    "The first element of the list is the temperature at 12am, the second element is the temperature at 1am, and so on. \n",
    "\n",
    "The company has decided that if one of the following events occurs, then the cooling system needs to be replaced for a new one to avoid damaging the processor.\n",
    "* More than 4 temperatures are greater than or equal to 70ºC.\n",
    "* Any temperature is above 80ºC.\n",
    "* The average temperature exceeds 65ºC.\n",
    "\n",
    "Follow the steps so that you can make the decision.\n",
    "\n",
    "#### 1. Find the minimum temperature of the day and store it in a variable."
   ]
  },
  {
   "cell_type": "code",
   "execution_count": 25,
   "metadata": {},
   "outputs": [
    {
     "name": "stdout",
     "output_type": "stream",
     "text": [
      "Minimum temperature registered: 0 °C\n"
     ]
    }
   ],
   "source": [
    "min_temp = min(temperatures_C)\n",
    "print (\"Minimum temperature registered:\", min_temp, \"°C\")"
   ]
  },
  {
   "cell_type": "markdown",
   "metadata": {},
   "source": [
    "#### 2. Find the maximum temperature of the day and store it in a variable."
   ]
  },
  {
   "cell_type": "code",
   "execution_count": 26,
   "metadata": {},
   "outputs": [
    {
     "name": "stdout",
     "output_type": "stream",
     "text": [
      "Maximum temperature registered: 90 °C\n"
     ]
    }
   ],
   "source": [
    "max_temp = max(temperatures_C)\n",
    "print (\"Maximum temperature registered:\", max_temp, \"°C\")"
   ]
  },
  {
   "cell_type": "markdown",
   "metadata": {},
   "source": [
    "#### 3. Create a list with the temperatures that are greater than or equal to 70ºC. Store it in a variable."
   ]
  },
  {
   "cell_type": "code",
   "execution_count": 27,
   "metadata": {},
   "outputs": [
    {
     "name": "stdout",
     "output_type": "stream",
     "text": [
      "Temperatures higher than or equal to 70 °C: [70, 76, 80, 81, 80, 83, 90, 79]\n"
     ]
    }
   ],
   "source": [
    "higher70 = []\n",
    "\n",
    "for i in range (0, len(temperatures_C)):\n",
    "    if temperatures_C [i] >= 70:\n",
    "        higher70.append (temperatures_C[i])\n",
    "        \n",
    "print(\"Temperatures higher than or equal to 70 °C:\", higher70)"
   ]
  },
  {
   "cell_type": "markdown",
   "metadata": {},
   "source": [
    "#### 4. Find the average temperature of the day and store it in a variable."
   ]
  },
  {
   "cell_type": "code",
   "execution_count": 28,
   "metadata": {},
   "outputs": [
    {
     "name": "stdout",
     "output_type": "stream",
     "text": [
      "Day's average temperature: 60.25 °C\n"
     ]
    }
   ],
   "source": [
    "avg_temp = sum(temperatures_C)/len(temperatures_C)\n",
    "print (\"Day's average temperature:\", avg_temp, \"°C\")"
   ]
  },
  {
   "cell_type": "markdown",
   "metadata": {},
   "source": [
    "#### 5. Imagine that there was a sensor failure at 3am and the data for that specific hour was not recorded. How would you estimate the missing value? Replace the current value of the list at 3am for an estimation. "
   ]
  },
  {
   "cell_type": "code",
   "execution_count": 29,
   "metadata": {},
   "outputs": [
    {
     "name": "stdout",
     "output_type": "stream",
     "text": [
      "Estimation for 3am temperature: 62.0\n",
      "The estimated temperature is the average temperature of 2am and 4am.\n",
      "The new average temperature found is: 62.833333333333336\n"
     ]
    }
   ],
   "source": [
    "temperatures_C [3] = (temperatures_C[2] + temperatures_C[4])/2\n",
    "print(\"Estimation for 3am temperature:\", temperatures_C[3])\n",
    "print(\"The estimated temperature is the average temperature of 2am and 4am.\")\n",
    "\n",
    "new_avg_temp = sum(temperatures_C)/(len(temperatures_C))\n",
    "print(\"The new average temperature found is:\", new_avg_temp)"
   ]
  },
  {
   "cell_type": "markdown",
   "metadata": {},
   "source": [
    "#### 6. Bonus: the maintenance staff is from the United States and does not understand the international metric system. Help them by converting the temperatures from Celsius to Fahrenheit.\n",
    "To know more about temperature conversion check this [link](https://en.wikipedia.org/wiki/Conversion_of_units_of_temperature).\n",
    "\n",
    "**Formula**: \n",
    "\n",
    "$F = 1.8 * C + 32$"
   ]
  },
  {
   "cell_type": "code",
   "execution_count": 30,
   "metadata": {},
   "outputs": [
    {
     "name": "stdout",
     "output_type": "stream",
     "text": [
      "Temperatures in °F: [91.4, 150.8, 149.0, 143.60000000000002, 138.2, 140.0, 143.60000000000002, 147.2, 158.0, 168.8, 176.0, 177.8, 176.0, 181.4, 194.0, 174.20000000000002, 141.8, 127.4, 122.0, 120.2, 127.4, 118.4, 113.0, 102.2]\n"
     ]
    }
   ],
   "source": [
    "temperatures_F = []\n",
    "\n",
    "for i in range (0, len(temperatures_C)):\n",
    "    temperatures_F.append (temperatures_C[i]*1.8 + 32)\n",
    "    \n",
    "print(\"Temperatures in °F:\", temperatures_F)"
   ]
  },
  {
   "cell_type": "markdown",
   "metadata": {},
   "source": [
    "#### 7. Make a decision!\n",
    "Now it's time to make a decision taking into account what you have seen until now. \n",
    "\n",
    "Remember that if one of the following events occurs, then the cooling system needs to be replaced for a new one to avoid damaging the processor.\n",
    "* More than 4 temperatures are greater than or equal to 70ºC.\n",
    "* Any temperature is above 80ºC.\n",
    "* The average temperature exceeds 65ºC.\n",
    "\n",
    "#### To make your decision, check if any of the three conditions above is met. You might need to use some of the variables you created in steps 1 to 6. Print a message to show if the cooling system needs to be changed or not."
   ]
  },
  {
   "cell_type": "code",
   "execution_count": 31,
   "metadata": {},
   "outputs": [
    {
     "name": "stdout",
     "output_type": "stream",
     "text": [
      "The cooling system must be changed.\n",
      "Reason: more than 4 registered temperature were equal or greater than 70°C.\n"
     ]
    }
   ],
   "source": [
    "a = False\n",
    "\n",
    "for i in range(0, len(higher70)):\n",
    "    if higher70 [i] > 80:\n",
    "        a = True\n",
    "\n",
    "if avg_temp > 65:\n",
    "    print(\"The cooling system must be changed.\")\n",
    "    print(\"Reason: the average temperature is higher than 65 °C.\")\n",
    "\n",
    "elif len(higher70) > 4:\n",
    "    print(\"The cooling system must be changed.\")\n",
    "    print(\"Reason: more than 4 registered temperature were equal or greater than 70°C.\")\n",
    "    \n",
    "elif a == True:\n",
    "        print(\"The cooling system must be changed.\")\n",
    "        print(\"Reason: Temperature above 80 °C was registered.\")\n",
    "        \n",
    "else:\n",
    "    print(\"There is no need to change the processor's cooling system.\")"
   ]
  },
  {
   "cell_type": "markdown",
   "metadata": {},
   "source": [
    "## Bonus\n",
    "\n",
    "The company has decided that the decision you made is not valid. They want you to analyze the data again but this time, the conditions that need to be met in order to change the cooling system are different.\n",
    "\n",
    "This time, if one of the following events occurs, then the cooling system needs to be replaced:\n",
    "* The temperature is greater than 70ºC during more than 4 consecutive hours.\n",
    "* Any temperature is above 80ºC.\n",
    "* The average temperature exceeds 65ºC.\n",
    "\n",
    "Follow the steps so that you can make the decision.\n",
    "\n",
    "#### 1. Create a list with the hours where the temperature is greater than 70ºC. Store it in a variable."
   ]
  },
  {
   "cell_type": "code",
   "execution_count": 32,
   "metadata": {},
   "outputs": [
    {
     "name": "stdout",
     "output_type": "stream",
     "text": [
      "Hours when temperature were higher or equal to 70°C: [False, False, False, False, False, False, False, False, True, True, True, True, True, True, True, True, False, False, False, False, False, False, False, False]\n"
     ]
    }
   ],
   "source": [
    "hours_temp70higher = []\n",
    "\n",
    "for i in range(0, len(temperatures_C)):\n",
    "    if temperatures_C [i] >= 70:\n",
    "        hours_temp70higher.append (True)\n",
    "    else:\n",
    "        hours_temp70higher.append (False)\n",
    "        \n",
    "print (\"Hours when temperature were higher or equal to 70°C:\", hours_temp70higher)"
   ]
  },
  {
   "cell_type": "markdown",
   "metadata": {},
   "source": [
    "#### 2. Check if the list you created in step 1 has more than 4 consecutive hours. "
   ]
  },
  {
   "cell_type": "code",
   "execution_count": 33,
   "metadata": {},
   "outputs": [
    {
     "name": "stdout",
     "output_type": "stream",
     "text": [
      "The temperature was equal or higher than 70 °C for more than 4 consecutive hours.\n"
     ]
    }
   ],
   "source": [
    "b = 0\n",
    "i = 0\n",
    "\n",
    "while (b < 5) & (b >= 0):\n",
    "    if hours_temp70higher [i] == True:\n",
    "        b += 1\n",
    "        i += 1\n",
    "    elif i < len(hours_temp70higher):\n",
    "        b = 0\n",
    "        i += 1\n",
    "    else:\n",
    "        b = -1\n",
    "        \n",
    "if b > 4:\n",
    "    print(\"The temperature was equal or higher than 70 °C for more than 4 consecutive hours.\")\n",
    "else:\n",
    "    print(\"The temperature was NOT equal or higher than 70 °C for more than 4 consecutive hours.\")\n",
    "    "
   ]
  },
  {
   "cell_type": "markdown",
   "metadata": {},
   "source": [
    "#### 3. Make the decision!\n",
    "To make your decision, check if any of the three conditions is met. Print a message to show if the cooling system needs to be changed or not."
   ]
  },
  {
   "cell_type": "code",
   "execution_count": 34,
   "metadata": {},
   "outputs": [
    {
     "name": "stdout",
     "output_type": "stream",
     "text": [
      "The cooling system must be changed.\n",
      "Reason: Temperature higher or equal to 70°C for more than 4 consecutive hours.\n"
     ]
    }
   ],
   "source": [
    "for i in range(0, len(higher70)):\n",
    "    if higher70 [i] > 80:\n",
    "        a = True\n",
    "\n",
    "if avg_temp > 65:\n",
    "    print(\"The cooling system must be changed.\")\n",
    "    print(\"Reason: the average temperature is higher than 65 °C.\")\n",
    "\n",
    "elif b > 4: #condition found on the previous step\n",
    "    print(\"The cooling system must be changed.\")\n",
    "    print(\"Reason: Temperature higher or equal to 70°C for more than 4 consecutive hours.\")\n",
    "    \n",
    "elif a == True:\n",
    "        print(\"The cooling system must be changed.\")\n",
    "        print(\"Reason: Temperature above 80 °C was registered.\")\n",
    "        \n",
    "else:\n",
    "    print(\"There is no need to change the processor's cooling system.\")"
   ]
  },
  {
   "cell_type": "markdown",
   "metadata": {},
   "source": [
    "#### 4. Find the average value of the temperature lists (ºC and ºF). What is the relation between both average values?"
   ]
  },
  {
   "cell_type": "code",
   "execution_count": 36,
   "metadata": {},
   "outputs": [
    {
     "name": "stdout",
     "output_type": "stream",
     "text": [
      "Average temperature: 62.833333333333336 °C\n",
      "Average temperature: 145.1 °F\n",
      "The relation between the averages temperature in °C and in °F is the same as in the equation: 𝐹=1.8∗𝐶+32\n"
     ]
    }
   ],
   "source": [
    "avg_temp_F = sum(temperatures_F)/len(temperatures_F)\n",
    "print(\"Average temperature:\", new_avg_temp, \"°C\")\n",
    "print(\"Average temperature:\", avg_temp_F, \"°F\")\n",
    "print(\"The relation between the averages temperature in °C and in °F is the same as in the equation: 𝐹=1.8∗𝐶+32\")"
   ]
  },
  {
   "cell_type": "markdown",
   "metadata": {},
   "source": [
    "#### 5. Find the standard deviation of the temperature lists (ºC and ºF). What is the relation between both standard deviations?"
   ]
  },
  {
   "cell_type": "code",
   "execution_count": 38,
   "metadata": {},
   "outputs": [
    {
     "name": "stdout",
     "output_type": "stream",
     "text": [
      "Standard deviation in °C:  14.633485192833897\n",
      "Standard deviation in °F:  26.34027334710101\n",
      "The relation between the standard deviation in °F and °C is the same as the angular coefficient (1,8) of the conversion equation: 𝐹=1.8∗𝐶+32\n"
     ]
    }
   ],
   "source": [
    "sqrd_var_temp_C = 0\n",
    "sqrd_var_temp_F = 0\n",
    "\n",
    "for i in range (0, len(temperatures_C)):\n",
    "    sqrd_var_temp_C += (temperatures_C[i] - new_avg_temp)**2\n",
    "    sqrd_var_temp_F += (temperatures_F[i] - avg_temp_F)**2\n",
    "\n",
    "stddev_C = (sqrd_var_temp_C/len(temperatures_C))**(1/2)\n",
    "stddev_F = (sqrd_var_temp_F/len(temperatures_F))**(1/2)\n",
    "\n",
    "print(\"Standard deviation in °C: \", stddev_C)\n",
    "print(\"Standard deviation in °F: \", stddev_F)\n",
    "print(\"The relation between the standard deviation in °F and °C is the same as the angular coefficient (1,8) of the conversion equation: 𝐹=1.8∗𝐶+32\")"
   ]
  }
 ],
 "metadata": {
  "kernelspec": {
   "display_name": "Python 3",
   "language": "python",
   "name": "python3"
  },
  "language_info": {
   "codemirror_mode": {
    "name": "ipython",
    "version": 3
   },
   "file_extension": ".py",
   "mimetype": "text/x-python",
   "name": "python",
   "nbconvert_exporter": "python",
   "pygments_lexer": "ipython3",
   "version": "3.9.4"
  }
 },
 "nbformat": 4,
 "nbformat_minor": 2
}
